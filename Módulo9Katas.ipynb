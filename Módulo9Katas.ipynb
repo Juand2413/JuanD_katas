{
 "cells": [
  {
   "cell_type": "markdown",
   "metadata": {},
   "source": [
    "Ejercicio 1: Uso de funciones en Python - Trabajar con argumentos en funciones"
   ]
  },
  {
   "cell_type": "code",
   "execution_count": 1,
   "metadata": {},
   "outputs": [
    {
     "name": "stdout",
     "output_type": "stream",
     "text": [
      " Reporte del combustible:\n",
      "    Promedio total: 63.333333333333336%\n",
      "    Primer tanque: 80%\n",
      "    Segundo tanque: 60% \n",
      "    Tercer tanque: 50% \n",
      "    \n"
     ]
    }
   ],
   "source": [
    "def fuel_readings(first_tank, second_tank, third_tank):\n",
    "    average = (first_tank + second_tank + third_tank)/3\n",
    "    return f\"\"\" Reporte del combustible:\n",
    "    Promedio total: {average}%\n",
    "    Primer tanque: {first_tank}%\n",
    "    Segundo tanque: {second_tank}% \n",
    "    Tercer tanque: {third_tank}% \n",
    "    \"\"\"\n",
    "print(fuel_readings(80,60,50))"
   ]
  },
  {
   "cell_type": "code",
   "execution_count": 2,
   "metadata": {},
   "outputs": [
    {
     "data": {
      "text/plain": [
       "63.333333333333336"
      ]
     },
     "execution_count": 2,
     "metadata": {},
     "output_type": "execute_result"
    }
   ],
   "source": [
    "def average(values):\n",
    "    total = sum(values)\n",
    "    items = len(values)\n",
    "    return total / items \n",
    "\n",
    "average([80,60,50])"
   ]
  },
  {
   "cell_type": "code",
   "execution_count": 3,
   "metadata": {},
   "outputs": [
    {
     "name": "stdout",
     "output_type": "stream",
     "text": [
      " Reporte del combustible:\n",
      "    Promedio total: 63.333333333333336%\n",
      "    Primer tanque: 80%\n",
      "    Segundo tanque: 60% \n",
      "    Tercer tanque: 50% \n",
      "    \n"
     ]
    }
   ],
   "source": [
    "def fuel_readings(first_tank, second_tank, third_tank):\n",
    "    average = (first_tank + second_tank + third_tank)/3\n",
    "    return f\"\"\" Reporte del combustible:\n",
    "    Promedio total: {average}%\n",
    "    Primer tanque: {first_tank}%\n",
    "    Segundo tanque: {second_tank}% \n",
    "    Tercer tanque: {third_tank}% \n",
    "    \"\"\"\n",
    "print(fuel_readings(80, 60, 50))    "
   ]
  },
  {
   "cell_type": "markdown",
   "metadata": {},
   "source": [
    "Ejercicio 2: Trabajo con argumentos de palabras clave"
   ]
  },
  {
   "cell_type": "code",
   "execution_count": 8,
   "metadata": {},
   "outputs": [
    {
     "name": "stdout",
     "output_type": "stream",
     "text": [
      " Informe de la mision\n",
      "    Mision a Marte\n",
      "    Tiempo total de la mision:65 minutos\n",
      "    Combustible total:45000 galones\n",
      "    \n"
     ]
    }
   ],
   "source": [
    "def mission(prelaunch_time, flight_time, destination, external_tank, main_tank):\n",
    "    return f\"\"\" Informe de la mision\n",
    "    Mision a {destination}\n",
    "    Tiempo total de la mision:{prelaunch_time + flight_time} minutos\n",
    "    Combustible total:{external_tank + main_tank} galones\n",
    "    \"\"\"\n",
    "print(mission(10, 55,\"Marte\", 20000, 25000))"
   ]
  },
  {
   "cell_type": "code",
   "execution_count": 9,
   "metadata": {},
   "outputs": [
    {
     "name": "stdout",
     "output_type": "stream",
     "text": [
      "\n",
      "    Mision a Marte\n",
      "    Tiempo total de vuelo: 95 minutos\n",
      "    Combustible total: 45000\n",
      "    \n"
     ]
    }
   ],
   "source": [
    "def mission(destination, *minutes, **fuel):\n",
    "    return f\"\"\"\n",
    "    Mision a {destination}\n",
    "    Tiempo total de vuelo: {sum(minutes)} minutos\n",
    "    Combustible total: {sum(fuel.values())}\n",
    "    \"\"\"\n",
    "print(mission(\"Marte\", 20, 15, 60, main=20000, external=25000)) "
   ]
  },
  {
   "cell_type": "code",
   "execution_count": 10,
   "metadata": {},
   "outputs": [
    {
     "name": "stdout",
     "output_type": "stream",
     "text": [
      "\n",
      "    Mision a Marte\n",
      "    Tiempo total de vuelo: 85 minutos\n",
      "    Combustible total: 45000\n",
      "    main tanque --> 20000 galones restantes\n",
      "external tanque --> 25000 galones restantes\n",
      "\n"
     ]
    }
   ],
   "source": [
    "def mission(destination, *minutes, **fuel):\n",
    "    main_report = f\"\"\"\n",
    "    Mision a {destination}\n",
    "    Tiempo total de vuelo: {sum(minutes)} minutos\n",
    "    Combustible total: {sum(fuel.values())}\n",
    "    \"\"\"\n",
    "    for tank, gallons in fuel.items():\n",
    "        main_report += f\"{tank} tanque --> {gallons} galones restantes\\n\"\n",
    "    return main_report\n",
    "\n",
    "print(mission(\"Marte\", 10, 15, 60, main=20000, external=25000))\n",
    "\n"
   ]
  }
 ],
 "metadata": {
  "interpreter": {
   "hash": "f153910924feaa259fa3c523a546541568727f60a86b6ed47a0cd12258f1f01b"
  },
  "kernelspec": {
   "display_name": "Python 3.10.1 64-bit",
   "language": "python",
   "name": "python3"
  },
  "language_info": {
   "codemirror_mode": {
    "name": "ipython",
    "version": 3
   },
   "file_extension": ".py",
   "mimetype": "text/x-python",
   "name": "python",
   "nbconvert_exporter": "python",
   "pygments_lexer": "ipython3",
   "version": "3.10.1"
  },
  "orig_nbformat": 4
 },
 "nbformat": 4,
 "nbformat_minor": 2
}
