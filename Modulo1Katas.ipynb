{
 "cells": [
  {
   "cell_type": "code",
   "execution_count": 4,
   "metadata": {},
   "outputs": [
    {
     "name": "stdout",
     "output_type": "stream",
     "text": [
      "La fecha de hoy es: 2022-02-10\n",
      "11 parsec son: 35.877159999999996 años luz: \n"
     ]
    }
   ],
   "source": [
    "from datetime import date\n",
    "date.today()\n",
    "print(\"La fecha de hoy es: \" + str(date.today()))\n",
    "parsec = 11\n",
    "años_luz = 3.26156 * parsec\n",
    "print(str(parsec) + \" parsec son: \" + str(años_luz) + \" años luz: \")"
   ]
  }
 ],
 "metadata": {
  "interpreter": {
   "hash": "f153910924feaa259fa3c523a546541568727f60a86b6ed47a0cd12258f1f01b"
  },
  "kernelspec": {
   "display_name": "Python 3.10.1 64-bit",
   "language": "python",
   "name": "python3"
  },
  "language_info": {
   "codemirror_mode": {
    "name": "ipython",
    "version": 3
   },
   "file_extension": ".py",
   "mimetype": "text/x-python",
   "name": "python",
   "nbconvert_exporter": "python",
   "pygments_lexer": "ipython3",
   "version": "3.10.1"
  },
  "orig_nbformat": 4
 },
 "nbformat": 4,
 "nbformat_minor": 2
}
