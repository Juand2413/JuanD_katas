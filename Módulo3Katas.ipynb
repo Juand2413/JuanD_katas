{
 "cells": [
  {
   "cell_type": "markdown",
   "metadata": {},
   "source": [
    "Ejercicio 1:"
   ]
  },
  {
   "cell_type": "code",
   "execution_count": 5,
   "metadata": {},
   "outputs": [
    {
     "name": "stdout",
     "output_type": "stream",
     "text": [
      "Advertencia\n"
     ]
    }
   ],
   "source": [
    "asteroide = 49\n",
    "if asteroide >= 25:\n",
    "    print(\"Advertencia, un asteroide se acerca\")\n",
    "else:\n",
    "    print(\"No te preocupes\")"
   ]
  },
  {
   "cell_type": "markdown",
   "metadata": {},
   "source": [
    "Ejercicio 2:"
   ]
  },
  {
   "cell_type": "code",
   "execution_count": 7,
   "metadata": {},
   "outputs": [
    {
     "name": "stdout",
     "output_type": "stream",
     "text": [
      "No se verá nada\n"
     ]
    }
   ],
   "source": [
    "asteroide = 19\n",
    "if asteroide >=25:\n",
    "    print(\"Advertencia, un asteroide se acerca\")\n",
    "elif asteroide >=20:\n",
    "    print(\"Hay un rayo de luz en el cielo\")\n",
    "else: \n",
    "    print(\"No hay nada\")"
   ]
  },
  {
   "cell_type": "markdown",
   "metadata": {},
   "source": [
    "Ejercicio 3:"
   ]
  },
  {
   "cell_type": "code",
   "execution_count": 8,
   "metadata": {},
   "outputs": [
    {
     "name": "stdout",
     "output_type": "stream",
     "text": [
      "Advertencia, un asteroide causara mucho daño\n"
     ]
    }
   ],
   "source": [
    "v_asteroide = 25\n",
    "tamano_asteroide = 40\n",
    "if tamano_asteroide > 25 and v_asteroide > 25:\n",
    "    print(\"Adevertencia, un asteroide se acerca\")\n",
    "elif tamano_asteroide > 25 and tamano_asteroide < 1000:\n",
    "    print(\"Advertencia, un asteroide causara mucho daño\")\n",
    "elif v_asteroide >= 20:\n",
    "    print(\"Hay un rayo de luz en el cielo\")\n",
    "else:\n",
    "    print(\"No hay nada\")"
   ]
  }
 ],
 "metadata": {
  "interpreter": {
   "hash": "f153910924feaa259fa3c523a546541568727f60a86b6ed47a0cd12258f1f01b"
  },
  "kernelspec": {
   "display_name": "Python 3.10.1 64-bit",
   "language": "python",
   "name": "python3"
  },
  "language_info": {
   "codemirror_mode": {
    "name": "ipython",
    "version": 3
   },
   "file_extension": ".py",
   "mimetype": "text/x-python",
   "name": "python",
   "nbconvert_exporter": "python",
   "pygments_lexer": "ipython3",
   "version": "3.10.1"
  },
  "orig_nbformat": 4
 },
 "nbformat": 4,
 "nbformat_minor": 2
}
